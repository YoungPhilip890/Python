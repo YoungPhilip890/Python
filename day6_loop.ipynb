{
 "cells": [
  {
   "cell_type": "code",
   "execution_count": 1,
   "metadata": {},
   "outputs": [],
   "source": [
    "import math"
   ]
  },
  {
   "cell_type": "code",
   "execution_count": 2,
   "metadata": {},
   "outputs": [
    {
     "name": "stdout",
     "output_type": "stream",
     "text": [
      "['__doc__', '__loader__', '__name__', '__package__', '__spec__', 'acos', 'acosh', 'asin', 'asinh', 'atan', 'atan2', 'atanh', 'ceil', 'comb', 'copysign', 'cos', 'cosh', 'degrees', 'dist', 'e', 'erf', 'erfc', 'exp', 'expm1', 'fabs', 'factorial', 'floor', 'fmod', 'frexp', 'fsum', 'gamma', 'gcd', 'hypot', 'inf', 'isclose', 'isfinite', 'isinf', 'isnan', 'isqrt', 'ldexp', 'lgamma', 'log', 'log10', 'log1p', 'log2', 'modf', 'nan', 'perm', 'pi', 'pow', 'prod', 'radians', 'remainder', 'sin', 'sinh', 'sqrt', 'tan', 'tanh', 'tau', 'trunc']\n"
     ]
    }
   ],
   "source": [
    "print(dir(math))"
   ]
  },
  {
   "cell_type": "code",
   "execution_count": 3,
   "metadata": {},
   "outputs": [
    {
     "name": "stdout",
     "output_type": "stream",
     "text": [
      "10\n"
     ]
    }
   ],
   "source": [
    "number = 10.58\n",
    "print(math.floor(number))"
   ]
  },
  {
   "cell_type": "code",
   "execution_count": 4,
   "metadata": {},
   "outputs": [
    {
     "name": "stdout",
     "output_type": "stream",
     "text": [
      "11\n"
     ]
    }
   ],
   "source": [
    "print(math.ceil(number))"
   ]
  },
  {
   "cell_type": "code",
   "execution_count": 5,
   "metadata": {},
   "outputs": [
    {
     "name": "stdout",
     "output_type": "stream",
     "text": [
      "39340.11440312676\n"
     ]
    }
   ],
   "source": [
    "print(math.exp(number))"
   ]
  },
  {
   "cell_type": "code",
   "execution_count": 6,
   "metadata": {},
   "outputs": [
    {
     "name": "stdout",
     "output_type": "stream",
     "text": [
      "3.2526911934581184\n"
     ]
    }
   ],
   "source": [
    "print(math.sqrt(number))"
   ]
  },
  {
   "cell_type": "code",
   "execution_count": 7,
   "metadata": {},
   "outputs": [
    {
     "name": "stdout",
     "output_type": "stream",
     "text": [
      "['Counter', 'Decimal', 'Fraction', 'NormalDist', 'StatisticsError', '__all__', '__builtins__', '__cached__', '__doc__', '__file__', '__loader__', '__name__', '__package__', '__spec__', '_coerce', '_convert', '_exact_ratio', '_fail_neg', '_find_lteq', '_find_rteq', '_isfinite', '_normal_dist_inv_cdf', '_ss', '_sum', 'bisect_left', 'bisect_right', 'erf', 'exp', 'fabs', 'fmean', 'fsum', 'geometric_mean', 'groupby', 'harmonic_mean', 'hypot', 'itemgetter', 'log', 'math', 'mean', 'median', 'median_grouped', 'median_high', 'median_low', 'mode', 'multimode', 'numbers', 'pstdev', 'pvariance', 'quantiles', 'random', 'sqrt', 'stdev', 'tau', 'variance']\n"
     ]
    }
   ],
   "source": [
    "import statistics as stat\n",
    "print(dir(stat))"
   ]
  },
  {
   "cell_type": "code",
   "execution_count": 16,
   "metadata": {},
   "outputs": [
    {
     "name": "stdout",
     "output_type": "stream",
     "text": [
      "81\n"
     ]
    }
   ],
   "source": [
    "numbers = [45,50,89,100,95,90,98]\n",
    "print(stat.mean(numbers))"
   ]
  },
  {
   "cell_type": "code",
   "execution_count": 17,
   "metadata": {},
   "outputs": [
    {
     "name": "stdout",
     "output_type": "stream",
     "text": [
      "81.0\n"
     ]
    }
   ],
   "source": [
    "print(stat.fmean(numbers))"
   ]
  },
  {
   "cell_type": "code",
   "execution_count": 18,
   "metadata": {},
   "outputs": [
    {
     "name": "stdout",
     "output_type": "stream",
     "text": [
      "[48.0, 89.2, 94.0, 98.8]\n"
     ]
    }
   ],
   "source": [
    "print(stat.quantiles(numbers,n = 5))"
   ]
  },
  {
   "cell_type": "code",
   "execution_count": 21,
   "metadata": {},
   "outputs": [
    {
     "name": "stdout",
     "output_type": "stream",
     "text": [
      "['BPF', 'LOG4', 'NV_MAGICCONST', 'RECIP_BPF', 'Random', 'SG_MAGICCONST', 'SystemRandom', 'TWOPI', '_Sequence', '_Set', '__all__', '__builtins__', '__cached__', '__doc__', '__file__', '__loader__', '__name__', '__package__', '__spec__', '_accumulate', '_acos', '_bisect', '_ceil', '_cos', '_e', '_exp', '_inst', '_log', '_os', '_pi', '_random', '_repeat', '_sha512', '_sin', '_sqrt', '_test', '_test_generator', '_urandom', '_warn', 'betavariate', 'choice', 'choices', 'expovariate', 'gammavariate', 'gauss', 'getrandbits', 'getstate', 'lognormvariate', 'normalvariate', 'paretovariate', 'randint', 'random', 'randrange', 'sample', 'seed', 'setstate', 'shuffle', 'triangular', 'uniform', 'vonmisesvariate', 'weibullvariate']\n"
     ]
    }
   ],
   "source": [
    "import random \n",
    "print(dir(random))"
   ]
  },
  {
   "cell_type": "code",
   "execution_count": 24,
   "metadata": {},
   "outputs": [
    {
     "data": {
      "text/plain": [
       "16"
      ]
     },
     "execution_count": 24,
     "metadata": {},
     "output_type": "execute_result"
    }
   ],
   "source": [
    "random.seed(1)\n",
    "random.randint(8,50)"
   ]
  },
  {
   "cell_type": "code",
   "execution_count": 25,
   "metadata": {},
   "outputs": [
    {
     "data": {
      "text/plain": [
       "'Edo'"
      ]
     },
     "execution_count": 25,
     "metadata": {},
     "output_type": "execute_result"
    }
   ],
   "source": [
    "states = ['Abuja','Osun','kaduna','Rivers','Edo']\n",
    "random.choice(states)"
   ]
  },
  {
   "cell_type": "code",
   "execution_count": 26,
   "metadata": {},
   "outputs": [],
   "source": [
    "random.shuffle(states)"
   ]
  },
  {
   "cell_type": "code",
   "execution_count": 28,
   "metadata": {},
   "outputs": [
    {
     "data": {
      "text/plain": [
       "['Rivers', 'Osun', 'Edo', 'kaduna', 'Abuja']"
      ]
     },
     "execution_count": 28,
     "metadata": {},
     "output_type": "execute_result"
    }
   ],
   "source": [
    "states"
   ]
  },
  {
   "cell_type": "code",
   "execution_count": 29,
   "metadata": {},
   "outputs": [
    {
     "name": "stdout",
     "output_type": "stream",
     "text": [
      "['Formatter', 'Template', '_ChainMap', '_TemplateMetaclass', '__all__', '__builtins__', '__cached__', '__doc__', '__file__', '__loader__', '__name__', '__package__', '__spec__', '_re', '_sentinel_dict', '_string', 'ascii_letters', 'ascii_lowercase', 'ascii_uppercase', 'capwords', 'digits', 'hexdigits', 'octdigits', 'printable', 'punctuation', 'whitespace']\n"
     ]
    }
   ],
   "source": [
    "import string\n",
    "print(dir(string))"
   ]
  },
  {
   "cell_type": "code",
   "execution_count": 34,
   "metadata": {},
   "outputs": [
    {
     "data": {
      "text/plain": [
       "'abcdefghijklmnopqrstuvwxyz'"
      ]
     },
     "execution_count": 34,
     "metadata": {},
     "output_type": "execute_result"
    }
   ],
   "source": [
    "string.ascii_lowercase"
   ]
  },
  {
   "cell_type": "code",
   "execution_count": 38,
   "metadata": {},
   "outputs": [
    {
     "data": {
      "text/plain": [
       "range(2, 58)"
      ]
     },
     "execution_count": 38,
     "metadata": {},
     "output_type": "execute_result"
    }
   ],
   "source": [
    "range(2,58)"
   ]
  },
  {
   "cell_type": "code",
   "execution_count": 50,
   "metadata": {},
   "outputs": [
    {
     "name": "stdout",
     "output_type": "stream",
     "text": [
      "p\n",
      "y\n",
      "t\n",
      "h\n",
      "o\n",
      "n\n"
     ]
    }
   ],
   "source": [
    "\n",
    "word = 'python'\n",
    "for val in word:\n",
    "    print(val)    #[for loop]"
   ]
  },
  {
   "cell_type": "code",
   "execution_count": 49,
   "metadata": {},
   "outputs": [
    {
     "name": "stdout",
     "output_type": "stream",
     "text": [
      "Hey Daniel i am inviting you for my birthday party coming up by 4pm this sartuday\n",
      "Hey Moses i am inviting you for my birthday party coming up by 4pm this sartuday\n",
      "Hey Aaron i am inviting you for my birthday party coming up by 4pm this sartuday\n",
      "Hey Gabriel i am inviting you for my birthday party coming up by 4pm this sartuday\n",
      "Hey Emmauel i am inviting you for my birthday party coming up by 4pm this sartuday\n",
      "Hey Sarah i am inviting you for my birthday party coming up by 4pm this sartuday\n",
      "Hey Favour i am inviting you for my birthday party coming up by 4pm this sartuday\n"
     ]
    }
   ],
   "source": [
    "friends = ['Daniel','Moses','Aaron','Gabriel','Emmauel','Sarah','Favour']\n",
    "for name in friends:\n",
    "    print(f'Hey {name} i am inviting you for my birthday party coming up by 4pm this sartuday')"
   ]
  },
  {
   "cell_type": "code",
   "execution_count": 53,
   "metadata": {},
   "outputs": [
    {
     "name": "stdout",
     "output_type": "stream",
     "text": [
      "2\n",
      "3\n",
      "4\n",
      "5\n",
      "6\n",
      "7\n",
      "8\n",
      "9\n",
      "10\n",
      "11\n",
      "12\n",
      "13\n",
      "14\n",
      "15\n",
      "16\n",
      "17\n",
      "18\n",
      "19\n",
      "20\n",
      "21\n",
      "22\n",
      "23\n",
      "24\n",
      "25\n",
      "26\n",
      "27\n",
      "28\n",
      "29\n",
      "30\n",
      "31\n",
      "32\n",
      "33\n",
      "34\n",
      "35\n",
      "36\n",
      "37\n",
      "38\n",
      "39\n",
      "40\n",
      "41\n",
      "42\n",
      "43\n",
      "44\n",
      "45\n",
      "46\n",
      "47\n",
      "48\n",
      "49\n",
      "50\n",
      "51\n",
      "52\n",
      "53\n",
      "54\n",
      "55\n",
      "56\n",
      "57\n"
     ]
    }
   ],
   "source": [
    "for i in range(2,58):\n",
    "    print(i)"
   ]
  },
  {
   "cell_type": "code",
   "execution_count": 57,
   "metadata": {},
   "outputs": [
    {
     "name": "stdout",
     "output_type": "stream",
     "text": [
      "please enter any number of your choice to perform the operation:25\n",
      "25 x = 25\n",
      "25 x = 50\n",
      "25 x = 75\n",
      "25 x = 100\n",
      "25 x = 125\n",
      "25 x = 150\n",
      "25 x = 175\n",
      "25 x = 200\n",
      "25 x = 225\n",
      "25 x = 250\n",
      "25 x = 275\n",
      "25 x = 300\n"
     ]
    }
   ],
   "source": [
    "num = int(input('please enter any number of your choice to perform the operation:'))\n",
    "for i in range(1,13):\n",
    "    print(f'{num} x = {num*i}')"
   ]
  },
  {
   "cell_type": "code",
   "execution_count": 71,
   "metadata": {},
   "outputs": [
    {
     "name": "stdout",
     "output_type": "stream",
     "text": [
      "the total sum of generated 50 numbers is 1652\n"
     ]
    }
   ],
   "source": [
    "import random\n",
    "numbers = []\n",
    "counter = 1\n",
    "total = 0\n",
    "while counter <= 50:\n",
    "    num = random.randint(25,40)\n",
    "    numbers.append(num)\n",
    "    counter = counter + 1\n",
    "    total = sum(numbers)\n",
    "print(f'the total sum of generated 50 numbers is {total}')"
   ]
  },
  {
   "cell_type": "code",
   "execution_count": 72,
   "metadata": {},
   "outputs": [
    {
     "name": "stdout",
     "output_type": "stream",
     "text": [
      "[40, 25, 37, 38, 25, 39, 33, 32, 28, 35, 25, 25, 25, 25, 37, 31, 38, 25, 32, 39, 40, 32, 36, 32, 32, 39, 34, 25, 38, 28, 30, 34, 28, 35, 38, 31, 34, 34, 40, 37, 26, 40, 32, 37, 38, 30, 36, 36, 27, 39]\n"
     ]
    }
   ],
   "source": [
    "print(numbers)"
   ]
  },
  {
   "cell_type": "code",
   "execution_count": 16,
   "metadata": {},
   "outputs": [
    {
     "name": "stdout",
     "output_type": "stream",
     "text": [
      "Provide your staff numberSSS12588\n",
      "WELCOME TO HR DEPARTMENT OF SIMEON VENTURES\n",
      "KINDLY FIND YOUR POSTING DETAILS BELOW\n",
      "NAME:Okon Rosemary\n",
      "GENDER:Female\n",
      "QUALIFICATIONS:Msc Business Administration\n",
      "AGE:27\n",
      "MARITAL STATUS:Single\n",
      "---------------------------------------------------------------\n",
      "CONGRATULATIONS YOU HAVE BEEN POSTED TO Abuja\n",
      "\n",
      "INVALID STAFF NUMBER\n"
     ]
    }
   ],
   "source": [
    "employees_record = {\n",
    "    'SSS12587':['Ojukwu Okoro','Male','BSc Accounting',30,'Single'],\n",
    "    'SSS12588':['Okon Rosemary','Female','Msc Business Administration',27,'Single'],\n",
    "    'SSS12589':['Maryjane Edet','Female','HND Computer Science',24,'Single'],\n",
    "}\n",
    "\n",
    "states = ['Abuja','Osun','Kaduna','Rivers','Edo']\n",
    "\n",
    "staff_number = input('Provide your staff number')\n",
    "for key in employees_record:\n",
    "    if key == staff_number:\n",
    "        print(f'''WELCOME TO HR DEPARTMENT OF SIMEON VENTURES\n",
    "KINDLY FIND YOUR POSTING DETAILS BELOW\n",
    "NAME:{employees_record[staff_number][0]}\n",
    "GENDER:{employees_record[staff_number][1]}\n",
    "QUALIFICATIONS:{employees_record[staff_number][2]}\n",
    "AGE:{employees_record[staff_number][3]}\n",
    "MARITAL STATUS:{employees_record[staff_number][4]}\n",
    "---------------------------------------------------------------\n",
    "CONGRATULATIONS YOU HAVE BEEN POSTED TO {random.choice(states)}\n",
    "''')\n",
    "else:\n",
    "    print('INVALID STAFF NUMBER')"
   ]
  },
  {
   "cell_type": "code",
   "execution_count": 23,
   "metadata": {},
   "outputs": [
    {
     "name": "stdout",
     "output_type": "stream",
     "text": [
      "Enter your digits:4\n",
      "Your digit is 4\n",
      "digit too low\n",
      "Enter your digits:7\n",
      "Your digit is 7\n",
      "digit too low\n",
      "Enter your digits:6\n",
      "Your digit is 6\n",
      "digit too low\n",
      "Enter your digits:5\n",
      "Your digit is 5\n",
      "digit too low\n",
      "Enter your digits:10\n",
      "Your digit is 10\n",
      "digit too low\n",
      "Enter your digits:20\n",
      "Congratulations Digits is correct\n"
     ]
    }
   ],
   "source": [
    "import random\n",
    "number = random.randint(1,20)\n",
    "digits = int(input('Enter your digits:'))\n",
    "digit = 5\n",
    "while digits != number:\n",
    "    print(f'Your digit is {digits}')\n",
    "    digits += 5\n",
    "    if digits < number:\n",
    "        print('digit too low')\n",
    "    elif digits > number:\n",
    "            print('digits too high')\n",
    "    digits = int(input('Enter your digits:'))\n",
    "print('Congratulations Digits is correct')            "
   ]
  },
  {
   "cell_type": "code",
   "execution_count": null,
   "metadata": {},
   "outputs": [],
   "source": []
  }
 ],
 "metadata": {
  "kernelspec": {
   "display_name": "Python 3",
   "language": "python",
   "name": "python3"
  },
  "language_info": {
   "codemirror_mode": {
    "name": "ipython",
    "version": 3
   },
   "file_extension": ".py",
   "mimetype": "text/x-python",
   "name": "python",
   "nbconvert_exporter": "python",
   "pygments_lexer": "ipython3",
   "version": "3.8.5"
  }
 },
 "nbformat": 4,
 "nbformat_minor": 4
}
